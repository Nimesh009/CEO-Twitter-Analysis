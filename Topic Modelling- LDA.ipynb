{
 "cells": [
  {
   "cell_type": "code",
   "execution_count": 5,
   "metadata": {},
   "outputs": [
    {
     "name": "stderr",
     "output_type": "stream",
     "text": [
      "C:\\Users\\Nimesh\\Anaconda3\\lib\\site-packages\\past\\types\\oldstr.py:33: DeprecationWarning: invalid escape sequence \\d\n",
      "  \"\"\"\n"
     ]
    }
   ],
   "source": [
    "#Import libraries\n",
    "\n",
    "%matplotlib inline\n",
    "import pickle\n",
    "from pprint import pprint\n",
    "import random\n",
    "import warnings\n",
    "import time\n",
    "\n",
    "# numpy, pandas, matplotlib and regular expressions (data science essentials)\n",
    "import numpy as np\n",
    "import pandas as pd\n",
    "import matplotlib.pyplot as plt\n",
    "import seaborn as sns\n",
    "import re\n",
    "\n",
    "# tqdm\n",
    "from tqdm import tqdm\n",
    "\n",
    "# spacy\n",
    "import spacy\n",
    "from spacy.lang.en import English\n",
    "\n",
    "\n",
    "# gensim\n",
    "import gensim\n",
    "from gensim import corpora\n",
    "from gensim.models import CoherenceModel\n",
    "\n",
    "# nltk\n",
    "import nltk\n",
    "from nltk.corpus import wordnet as wn\n",
    "from nltk.corpus import words\n",
    "from nltk.stem.wordnet import WordNetLemmatizer\n",
    "from nltk.tokenize import word_tokenize\n",
    "from nltk.stem.porter import *\n",
    "from nltk.stem import LancasterStemmer\n",
    "\n",
    "# pyLDAvis\n",
    "import pyLDAvis\n",
    "import pyLDAvis.gensim\n",
    "\n",
    "# styling\n",
    "pd.set_option('display.max_columns',150)\n",
    "plt.style.use('bmh')\n",
    "from IPython.display import display"
   ]
  },
  {
   "cell_type": "code",
   "execution_count": 6,
   "metadata": {},
   "outputs": [],
   "source": [
    "#Ignore all Warnings\n",
    "warnings.simplefilter(\"ignore\")"
   ]
  },
  {
   "cell_type": "code",
   "execution_count": 10,
   "metadata": {},
   "outputs": [],
   "source": [
    "#import tweets\n",
    "import os\n",
    "os.chdir('E:\\Github Projects\\CEO-Tweets-Analysis\\Dataset')\n",
    "df = pd.read_csv(\"ceo_tweets_final.csv\")\n",
    "df = df.drop(columns=['Unnamed: 0'])"
   ]
  },
  {
   "cell_type": "code",
   "execution_count": 12,
   "metadata": {},
   "outputs": [],
   "source": [
    "#convert data colume to data type\n",
    "df[\"date\"] = pd.to_datetime(df['date'])\n",
    "#filter for tweets from year 2016\n",
    "df = df[df['date'].dt.year>2016]"
   ]
  },
  {
   "cell_type": "code",
   "execution_count": 13,
   "metadata": {},
   "outputs": [],
   "source": [
    "#convert data colume to data type\n",
    "df[\"date\"]=df[\"date\"].apply(lambda x: x.date())"
   ]
  },
  {
   "cell_type": "code",
   "execution_count": 14,
   "metadata": {},
   "outputs": [
    {
     "name": "stderr",
     "output_type": "stream",
     "text": [
      "[nltk_data] Downloading package punkt to\n",
      "[nltk_data]     C:\\Users\\Nimesh\\AppData\\Roaming\\nltk_data...\n",
      "[nltk_data]   Package punkt is already up-to-date!\n"
     ]
    },
    {
     "data": {
      "text/plain": [
       "True"
      ]
     },
     "execution_count": 14,
     "metadata": {},
     "output_type": "execute_result"
    }
   ],
   "source": [
    "# NLTK Stop words\n",
    "from nltk.corpus import stopwords\n",
    "stop_words = stopwords.words('english')\n",
    "import nltk\n",
    "nltk.download('punkt')"
   ]
  },
  {
   "cell_type": "code",
   "execution_count": 15,
   "metadata": {},
   "outputs": [],
   "source": [
    "## Removing stop words, punctuation and tokenizing\n",
    "stop = stopwords.words('english')\n",
    "stop = stop + ['rt','amp']"
   ]
  },
  {
   "cell_type": "code",
   "execution_count": 16,
   "metadata": {},
   "outputs": [],
   "source": [
    "def get_mentions(tweet):\n",
    "        '''\n",
    "        Utility function to clean tweet text by removing links, special characters\n",
    "        using simple regex statements.\n",
    "        '''\n",
    "        result = re.findall(\"(?<=^|(?<=[^a-zA-Z0-9-_\\.]))@([A-Za-z]+[A-Za-z0-9_]+)\", tweet) #(@[A-Za-z0-9]+)|\n",
    "        return list(set(result))"
   ]
  },
  {
   "cell_type": "code",
   "execution_count": 17,
   "metadata": {},
   "outputs": [],
   "source": [
    "def get_hashtags(tweet):\n",
    "        '''\n",
    "        Utility function to clean tweet text by removing links, special characters\n",
    "        using simple regex statements.\n",
    "        '''\n",
    "        result = re.findall(\"(?<=^|(?<=[^a-zA-Z0-9-_\\.]))#([A-Za-z]+[A-Za-z0-9_]+)\", tweet) #(@[A-Za-z0-9]+)|\n",
    "        return list(set(result))"
   ]
  },
  {
   "cell_type": "code",
   "execution_count": 18,
   "metadata": {},
   "outputs": [],
   "source": [
    "def clean_tweet_split(tweet):\n",
    "        '''\n",
    "        Utility function to clean tweet text by removing links, special characters\n",
    "        using simple regex statements.\n",
    "        '''\n",
    "        p = ' '.join(re.sub(\"(?<=^|(?<=[^a-zA-Z0-9-_\\.]))@([A-Za-z]+[A-Za-z0-9_]+)\", \" \", tweet).split())\n",
    "        s = ' '.join(re.sub(\"(?<=^|(?<=[^a-zA-Z0-9-_\\.]))#([A-Za-z]+[A-Za-z0-9_]+)\", \" \", p).split())\n",
    "        return ' '.join(re.sub(\"(\\w+:\\/\\/\\S+)\", \" \", s).split())"
   ]
  },
  {
   "cell_type": "code",
   "execution_count": 19,
   "metadata": {},
   "outputs": [],
   "source": [
    "def remove_links(tweet):\n",
    "        '''\n",
    "        Utility function to clean tweet text by removing links, special characters\n",
    "        using simple regex statements.\n",
    "        '''\n",
    "        return ' '.join(re.sub(\"(\\w+:\\/\\/\\S+)\", \" \", tweet).split())"
   ]
  },
  {
   "cell_type": "code",
   "execution_count": 20,
   "metadata": {},
   "outputs": [],
   "source": [
    "# function for lemmatization\n",
    "\n",
    "lemma = nltk.wordnet.WordNetLemmatizer()\n",
    "def lemmatize(text):\n",
    "    return lemma.lemmatize(text)"
   ]
  },
  {
   "cell_type": "code",
   "execution_count": 21,
   "metadata": {},
   "outputs": [],
   "source": [
    "def bigrams(words, bi_min=15, tri_min=10):\n",
    "    \"\"\"\n",
    "    Get Bigrams\n",
    "    \"\"\"\n",
    "    bigram = gensim.models.Phrases(words, min_count = bi_min)\n",
    "    bigram_mod = gensim.models.phrases.Phraser(bigram)\n",
    "    return bigram_mod"
   ]
  },
  {
   "cell_type": "code",
   "execution_count": 22,
   "metadata": {},
   "outputs": [],
   "source": [
    "def get_corpus(df):\n",
    "    \"\"\"\n",
    "    Get Bigram Model, Corpus, id2word mapping\n",
    "    \"\"\"\n",
    "    bigram = bigrams(df.tweet_tokens_lem)\n",
    "    bigram = [bigram[tweet] for tweet in df.tweet_tokens_lem]\n",
    "    id2word = gensim.corpora.Dictionary(bigram)\n",
    "    id2word.filter_extremes(no_below=10, no_above=0.35)\n",
    "    id2word.compactify()\n",
    "    corpus = [id2word.doc2bow(text) for text in bigram]\n",
    "    return corpus, id2word, bigram"
   ]
  },
  {
   "cell_type": "code",
   "execution_count": 24,
   "metadata": {},
   "outputs": [
    {
     "name": "stderr",
     "output_type": "stream",
     "text": [
      "[nltk_data] Downloading package wordnet to\n",
      "[nltk_data]     C:\\Users\\Nimesh\\AppData\\Roaming\\nltk_data...\n",
      "[nltk_data]   Unzipping corpora\\wordnet.zip.\n"
     ]
    }
   ],
   "source": [
    "import nltk\n",
    "nltk.download('wordnet')\n",
    "#Create separate colums for mentions, tags, tokens and process the tokens\n",
    "df[\"mentions\"] = df[\"tweet\"].apply(lambda tweet: get_mentions(tweet))\n",
    "df[\"tags\"] = df[\"tweet\"].apply(lambda tweet: get_hashtags(tweet))\n",
    "\n",
    "df[\"tweet_clean\"] = df[\"tweet\"].apply(lambda tweet: clean_tweet_split(tweet))\n",
    "\n",
    "df[\"tweet_tokens\"] = df[\"tweet_clean\"].apply(lambda each_post: word_tokenize(re.sub(r'[^\\w\\s]',' ',each_post.lower())))\n",
    "df[\"tweet_tokens\"] = df[\"tweet_tokens\"].apply(lambda list_of_words: [x for x in list_of_words if x not in stop])\n",
    "\n",
    "df[\"tweet_tokens_lem\"] = df[\"tweet_tokens\"].apply(lambda list_of_words: [lemmatize(x) for x in list_of_words])"
   ]
  },
  {
   "cell_type": "code",
   "execution_count": 25,
   "metadata": {},
   "outputs": [],
   "source": [
    "## Removing Less Frequent words\n",
    "df[\"tweet_new\"] = df[\"tweet\"].apply(lambda tweet: remove_links(tweet))\n",
    "df[\"tweet_new\"] = df[\"tweet_new\"].apply(lambda each_post: word_tokenize(re.sub(r'[^\\w\\s]',' ',each_post.lower())))\n",
    "df[\"tweet_new\"] = df[\"tweet_new\"].apply(lambda list_of_words: [x for x in list_of_words if x not in stop])"
   ]
  },
  {
   "cell_type": "code",
   "execution_count": 26,
   "metadata": {},
   "outputs": [
    {
     "data": {
      "text/html": [
       "<div>\n",
       "<style scoped>\n",
       "    .dataframe tbody tr th:only-of-type {\n",
       "        vertical-align: middle;\n",
       "    }\n",
       "\n",
       "    .dataframe tbody tr th {\n",
       "        vertical-align: top;\n",
       "    }\n",
       "\n",
       "    .dataframe thead th {\n",
       "        text-align: right;\n",
       "    }\n",
       "</style>\n",
       "<table border=\"1\" class=\"dataframe\">\n",
       "  <thead>\n",
       "    <tr style=\"text-align: right;\">\n",
       "      <th></th>\n",
       "      <th>username</th>\n",
       "      <th>id</th>\n",
       "      <th>date</th>\n",
       "      <th>tweet</th>\n",
       "      <th>retweets</th>\n",
       "      <th>likes</th>\n",
       "      <th>mentions</th>\n",
       "      <th>tags</th>\n",
       "      <th>tweet_clean</th>\n",
       "      <th>tweet_tokens</th>\n",
       "      <th>tweet_tokens_lem</th>\n",
       "      <th>tweet_new</th>\n",
       "    </tr>\n",
       "  </thead>\n",
       "  <tbody>\n",
       "    <tr>\n",
       "      <th>0</th>\n",
       "      <td>@tim_cook</td>\n",
       "      <td>1200060640469159939</td>\n",
       "      <td>2019-11-28</td>\n",
       "      <td>On this #Thanksgiving, I am reflecting on the ...</td>\n",
       "      <td>546</td>\n",
       "      <td>4434</td>\n",
       "      <td>[]</td>\n",
       "      <td>[Dreamers, Thanksgiving]</td>\n",
       "      <td>On this , I am reflecting on the . As we enjoy...</td>\n",
       "      <td>[reflecting, enjoy, day, friends, family, feel...</td>\n",
       "      <td>[reflecting, enjoy, day, friend, family, feel,...</td>\n",
       "      <td>[thanksgiving, reflecting, dreamers, enjoy, da...</td>\n",
       "    </tr>\n",
       "    <tr>\n",
       "      <th>1</th>\n",
       "      <td>@tim_cook</td>\n",
       "      <td>1200047686180835328</td>\n",
       "      <td>2019-11-28</td>\n",
       "      <td>Wishing everyone a #HappyThanksgiving filled w...</td>\n",
       "      <td>575</td>\n",
       "      <td>6097</td>\n",
       "      <td>[]</td>\n",
       "      <td>[HappyThanksgiving]</td>\n",
       "      <td>Wishing everyone a filled with joy &amp;amp; happi...</td>\n",
       "      <td>[wishing, everyone, filled, joy, happiness, re...</td>\n",
       "      <td>[wishing, everyone, filled, joy, happiness, re...</td>\n",
       "      <td>[wishing, everyone, happythanksgiving, filled,...</td>\n",
       "    </tr>\n",
       "    <tr>\n",
       "      <th>2</th>\n",
       "      <td>@tim_cook</td>\n",
       "      <td>1199872990718169089</td>\n",
       "      <td>2019-11-28</td>\n",
       "      <td>Tomorrow the incredible @MNightShyamalan’s ser...</td>\n",
       "      <td>412</td>\n",
       "      <td>2607</td>\n",
       "      <td>[MNightShyamalan, Servant]</td>\n",
       "      <td>[]</td>\n",
       "      <td>Tomorrow the incredible ’s series premieres on...</td>\n",
       "      <td>[tomorrow, incredible, series, premieres, appl...</td>\n",
       "      <td>[tomorrow, incredible, series, premiere, apple...</td>\n",
       "      <td>[tomorrow, incredible, mnightshyamalan, series...</td>\n",
       "    </tr>\n",
       "    <tr>\n",
       "      <th>3</th>\n",
       "      <td>@tim_cook</td>\n",
       "      <td>1199855397617704970</td>\n",
       "      <td>2019-11-28</td>\n",
       "      <td>Thanksgiving Day challenge! Close your rings w...</td>\n",
       "      <td>394</td>\n",
       "      <td>3932</td>\n",
       "      <td>[]</td>\n",
       "      <td>[]</td>\n",
       "      <td>Thanksgiving Day challenge! Close your rings w...</td>\n",
       "      <td>[thanksgiving, day, challenge, close, rings, f...</td>\n",
       "      <td>[thanksgiving, day, challenge, close, ring, fa...</td>\n",
       "      <td>[thanksgiving, day, challenge, close, rings, f...</td>\n",
       "    </tr>\n",
       "    <tr>\n",
       "      <th>4</th>\n",
       "      <td>@tim_cook</td>\n",
       "      <td>1199767313890922497</td>\n",
       "      <td>2019-11-27</td>\n",
       "      <td>As many of you travel to be with loved ones to...</td>\n",
       "      <td>1310</td>\n",
       "      <td>8436</td>\n",
       "      <td>[]</td>\n",
       "      <td>[]</td>\n",
       "      <td>As many of you travel to be with loved ones to...</td>\n",
       "      <td>[many, travel, loved, ones, today, remember, p...</td>\n",
       "      <td>[many, travel, loved, one, today, remember, pr...</td>\n",
       "      <td>[many, travel, loved, ones, today, remember, p...</td>\n",
       "    </tr>\n",
       "  </tbody>\n",
       "</table>\n",
       "</div>"
      ],
      "text/plain": [
       "    username                   id        date  \\\n",
       "0  @tim_cook  1200060640469159939  2019-11-28   \n",
       "1  @tim_cook  1200047686180835328  2019-11-28   \n",
       "2  @tim_cook  1199872990718169089  2019-11-28   \n",
       "3  @tim_cook  1199855397617704970  2019-11-28   \n",
       "4  @tim_cook  1199767313890922497  2019-11-27   \n",
       "\n",
       "                                               tweet  retweets  likes  \\\n",
       "0  On this #Thanksgiving, I am reflecting on the ...       546   4434   \n",
       "1  Wishing everyone a #HappyThanksgiving filled w...       575   6097   \n",
       "2  Tomorrow the incredible @MNightShyamalan’s ser...       412   2607   \n",
       "3  Thanksgiving Day challenge! Close your rings w...       394   3932   \n",
       "4  As many of you travel to be with loved ones to...      1310   8436   \n",
       "\n",
       "                     mentions                      tags  \\\n",
       "0                          []  [Dreamers, Thanksgiving]   \n",
       "1                          []       [HappyThanksgiving]   \n",
       "2  [MNightShyamalan, Servant]                        []   \n",
       "3                          []                        []   \n",
       "4                          []                        []   \n",
       "\n",
       "                                         tweet_clean  \\\n",
       "0  On this , I am reflecting on the . As we enjoy...   \n",
       "1  Wishing everyone a filled with joy &amp; happi...   \n",
       "2  Tomorrow the incredible ’s series premieres on...   \n",
       "3  Thanksgiving Day challenge! Close your rings w...   \n",
       "4  As many of you travel to be with loved ones to...   \n",
       "\n",
       "                                        tweet_tokens  \\\n",
       "0  [reflecting, enjoy, day, friends, family, feel...   \n",
       "1  [wishing, everyone, filled, joy, happiness, re...   \n",
       "2  [tomorrow, incredible, series, premieres, appl...   \n",
       "3  [thanksgiving, day, challenge, close, rings, f...   \n",
       "4  [many, travel, loved, ones, today, remember, p...   \n",
       "\n",
       "                                    tweet_tokens_lem  \\\n",
       "0  [reflecting, enjoy, day, friend, family, feel,...   \n",
       "1  [wishing, everyone, filled, joy, happiness, re...   \n",
       "2  [tomorrow, incredible, series, premiere, apple...   \n",
       "3  [thanksgiving, day, challenge, close, ring, fa...   \n",
       "4  [many, travel, loved, one, today, remember, pr...   \n",
       "\n",
       "                                           tweet_new  \n",
       "0  [thanksgiving, reflecting, dreamers, enjoy, da...  \n",
       "1  [wishing, everyone, happythanksgiving, filled,...  \n",
       "2  [tomorrow, incredible, mnightshyamalan, series...  \n",
       "3  [thanksgiving, day, challenge, close, rings, f...  \n",
       "4  [many, travel, loved, ones, today, remember, p...  "
      ]
     },
     "execution_count": 26,
     "metadata": {},
     "output_type": "execute_result"
    }
   ],
   "source": [
    "df.head()"
   ]
  },
  {
   "cell_type": "markdown",
   "metadata": {},
   "source": [
    "### LDA Analysis"
   ]
  },
  {
   "cell_type": "code",
   "execution_count": 27,
   "metadata": {},
   "outputs": [],
   "source": [
    "def lda_analysis(df, username, num_topics):\n",
    "    \"\"\"\n",
    "    function for LDA analysis\n",
    "    \"\"\"\n",
    "    df_ceo = df[df['username']== username]\n",
    "    \n",
    "    all_words = df_ceo['tweet_new'].sum()\n",
    "    freq_dist = nltk.FreqDist(all_words)\n",
    "    df_fdist=pd.DataFrame(list(freq_dist.items()), columns=['term', 'freq'])\n",
    "    \n",
    "    df_fdist = df_fdist.sort_values(by = 'freq', ascending = False)\n",
    "    df_fdist = df_fdist[df_fdist['freq'] > 1]\n",
    "    \n",
    "    relevant_words = list(df_fdist['term'])\n",
    "    \n",
    "    df_ceo[\"tweet_new\"] = df_ceo[\"tweet_new\"].apply(lambda list_of_words: [x for x in list_of_words if x in relevant_words])\n",
    "    df_ceo[\"tweet_tokens_lem\"] = df_ceo[\"tweet_new\"].apply(lambda list_of_words: [lemmatize(x) for x in list_of_words])\n",
    "    \n",
    "    train_corpus, train_id2word, bigram_train = get_corpus(df_ceo)\n",
    "    \n",
    "    import logging\n",
    "    logging.basicConfig(filename='lda_model.log', format='%(asctime)s : %(levelname)s : %(message)s', level=logging.INFO)\n",
    "\n",
    "    with warnings.catch_warnings():\n",
    "        warnings.simplefilter('ignore')\n",
    "        lda_train = gensim.models.ldamulticore.LdaMulticore(\n",
    "                               corpus=train_corpus,\n",
    "                               num_topics=num_topics,\n",
    "                               id2word=train_id2word,\n",
    "                               chunksize=100,\n",
    "                               workers=7, # Num. Processing Cores - 1\n",
    "                               passes=50,\n",
    "                               eval_every = 1,\n",
    "                               per_word_topics=True,\n",
    "                               random_state=11)\n",
    "        lda_train.save('lda_train.model')\n",
    "        \n",
    "    coherence_model_lda = CoherenceModel(model=lda_train, texts=bigram_train, dictionary=train_id2word, coherence='c_v')\n",
    "    coherence_lda = coherence_model_lda.get_coherence()\n",
    "    print(\"The coherence of the LDA model is\",coherence_lda)\n",
    "    \n",
    "    train_vecs = []\n",
    "    for i in range(len(df_ceo.tweet_new)):\n",
    "        top_topics = lda_train.get_document_topics(train_corpus[i], minimum_probability=0.0)\n",
    "        topic_vec = [top_topics[i][1] for i in range(num_topics)]\n",
    "        train_vecs.append(topic_vec)\n",
    "    \n",
    "    return df_ceo, lda_train.print_topics(), train_vecs, num_topics"
   ]
  },
  {
   "cell_type": "code",
   "execution_count": 28,
   "metadata": {},
   "outputs": [],
   "source": [
    "# def get_max_topics(values):\n",
    "#     topics = []\n",
    "#     if max(values) > 0.5:\n",
    "#         topics.append(max(values))\n",
    "#     elif len(list(set(values))) == 1:\n",
    "#         topics = values\n",
    "#     else:\n",
    "#         topics = [num for num in values if num > 0.5/(num_topics-1)]   \n",
    "    \n",
    "#     return topics\n",
    "\n",
    "## TRIED USING THE FUNCTION ABOVE. IT GAVE SIMILAR RESULTS AS THE BELOW FUNCTION\n",
    "\n",
    "def get_max_topics(values):\n",
    "    topics = []\n",
    "    if len(list(set(values))) == 1:\n",
    "        topics = values     \n",
    "    else:\n",
    "        topics.append(max(values))\n",
    "    \n",
    "    return topics\n",
    "\n",
    "def assign_topics(col1, col2):\n",
    "    if col1 in col2:\n",
    "        return 1\n",
    "    else:\n",
    "        return 0"
   ]
  },
  {
   "cell_type": "code",
   "execution_count": 29,
   "metadata": {},
   "outputs": [
    {
     "name": "stdout",
     "output_type": "stream",
     "text": [
      "The coherence of the LDA model is 0.3803925329617725\n"
     ]
    }
   ],
   "source": [
    "df_ceo, lda_results, train_vecs, num_topics = lda_analysis(df, '@tim_cook', 8)"
   ]
  },
  {
   "cell_type": "code",
   "execution_count": 30,
   "metadata": {},
   "outputs": [
    {
     "data": {
      "text/plain": [
       "[(0,\n",
       "  '0.103*\"year\" + 0.076*\"see\" + 0.072*\"developer\" + 0.058*\"world\" + 0.054*\"time\" + 0.045*\"week\" + 0.038*\"ago\" + 0.036*\"app\" + 0.035*\"powerful\" + 0.034*\"today\"'),\n",
       " (1,\n",
       "  '0.156*\"heart\" + 0.085*\"community\" + 0.079*\"family\" + 0.078*\"one\" + 0.046*\"today\" + 0.046*\"victim\" + 0.046*\"affected\" + 0.043*\"pro\" + 0.042*\"violence\" + 0.041*\"ipad\"'),\n",
       " (2,\n",
       "  '0.180*\"u\" + 0.060*\"make\" + 0.059*\"every\" + 0.053*\"celebrate\" + 0.050*\"life\" + 0.049*\"congratulation\" + 0.044*\"let\" + 0.040*\"day\" + 0.037*\"today\" + 0.036*\"people\"'),\n",
       " (3,\n",
       "  '0.170*\"thank\" + 0.148*\"work\" + 0.116*\"proud\" + 0.090*\"team\" + 0.072*\"great\" + 0.050*\"friend\" + 0.041*\"visit\" + 0.038*\"back\" + 0.037*\"th\" + 0.034*\"help\"'),\n",
       " (4,\n",
       "  '0.103*\"woman\" + 0.080*\"apple\" + 0.075*\"never\" + 0.065*\"story\" + 0.064*\"country\" + 0.062*\"right\" + 0.058*\"men\" + 0.058*\"enjoy\" + 0.057*\"like\" + 0.054*\"place\"'),\n",
       " (5,\n",
       "  '0.208*\"thanks\" + 0.123*\"iphone\" + 0.102*\"new\" + 0.076*\"love\" + 0.058*\"student\" + 0.047*\"forward\" + 0.043*\"thing\" + 0.041*\"shotoniphone\" + 0.033*\"customer\" + 0.031*\"photo\"'),\n",
       " (6,\n",
       "  '0.228*\"apple\" + 0.095*\"today\" + 0.057*\"thrilled\" + 0.055*\"store\" + 0.055*\"new\" + 0.052*\"great\" + 0.051*\"many\" + 0.045*\"future\" + 0.041*\"meet\" + 0.036*\"thanks\"'),\n",
       " (7,\n",
       "  '0.136*\"apple\" + 0.120*\"everyone\" + 0.102*\"around_world\" + 0.074*\"celebrating\" + 0.064*\"happy\" + 0.056*\"day\" + 0.047*\"thank\" + 0.044*\"wishing\" + 0.041*\"customer\" + 0.040*\"first\"')]"
      ]
     },
     "execution_count": 30,
     "metadata": {},
     "output_type": "execute_result"
    }
   ],
   "source": [
    "lda_results"
   ]
  },
  {
   "cell_type": "code",
   "execution_count": 31,
   "metadata": {},
   "outputs": [],
   "source": [
    "train_vec_df=pd.DataFrame(train_vecs)\n",
    "train_vec_df.columns=['Technology','Social','People','Appreciation','Women','Product','Store Launch','Emotion']"
   ]
  },
  {
   "cell_type": "code",
   "execution_count": 32,
   "metadata": {},
   "outputs": [],
   "source": [
    "df_tim_cook = pd.concat([df_ceo.reset_index(drop=True), train_vec_df.reset_index(drop=True)], axis=1)"
   ]
  },
  {
   "cell_type": "code",
   "execution_count": 33,
   "metadata": {},
   "outputs": [],
   "source": [
    "df_tim_cook['all_topics']= df_tim_cook[['Technology','Social','People','Appreciation','Women','Product','Store Launch','Emotion']].values.tolist()\n",
    "df_tim_cook['max_topics'] = df_tim_cook['all_topics'].apply(lambda values: get_max_topics(values))"
   ]
  },
  {
   "cell_type": "code",
   "execution_count": 34,
   "metadata": {},
   "outputs": [],
   "source": [
    "df_tim_cook['Technology'] = df_tim_cook.apply(lambda x: assign_topics(x['Technology'], x['max_topics']), axis=1)\n",
    "df_tim_cook['Social'] = df_tim_cook.apply(lambda x: assign_topics(x['Social'], x['max_topics']), axis=1)\n",
    "df_tim_cook['People'] = df_tim_cook.apply(lambda x: assign_topics(x['People'], x['max_topics']), axis=1)\n",
    "df_tim_cook['Appreciation'] = df_tim_cook.apply(lambda x: assign_topics(x['Appreciation'], x['max_topics']), axis=1)\n",
    "df_tim_cook['Women'] = df_tim_cook.apply(lambda x: assign_topics(x['Women'], x['max_topics']), axis=1)\n",
    "df_tim_cook['Product'] = df_tim_cook.apply(lambda x: assign_topics(x['Product'], x['max_topics']), axis=1)\n",
    "df_tim_cook['Store Launch'] = df_tim_cook.apply(lambda x: assign_topics(x['Store Launch'], x['max_topics']), axis=1)\n",
    "df_tim_cook['Emotion'] = df_tim_cook.apply(lambda x: assign_topics(x['Emotion'], x['max_topics']), axis=1)"
   ]
  },
  {
   "cell_type": "code",
   "execution_count": 35,
   "metadata": {},
   "outputs": [],
   "source": [
    "average_topic_weights = df_tim_cook[['Technology','Social','People','Appreciation','Women','Product','Store Launch','Emotion']].sum(axis=0)"
   ]
  },
  {
   "cell_type": "code",
   "execution_count": 36,
   "metadata": {},
   "outputs": [],
   "source": [
    "ceo_topics = pd.DataFrame(average_topic_weights)"
   ]
  },
  {
   "cell_type": "code",
   "execution_count": 44,
   "metadata": {},
   "outputs": [
    {
     "data": {
      "text/html": [
       "\n",
       "        <iframe\n",
       "            width=\"1000px\"\n",
       "            height=\"600px\"\n",
       "            src=\"https://plotly.com/~sah_lumos/1.embed\"\n",
       "            frameborder=\"0\"\n",
       "            allowfullscreen\n",
       "        ></iframe>\n",
       "        "
      ],
      "text/plain": [
       "<IPython.lib.display.IFrame at 0x24fdbd87710>"
      ]
     },
     "execution_count": 44,
     "metadata": {},
     "output_type": "execute_result"
    }
   ],
   "source": [
    "import chart_studio.plotly as py\n",
    "py.plotly.tools.set_credentials_file(username='sah_lumos', api_key='9fCFTwIksEv3WNQFIZSL')\n",
    "# plot pie chart for the major topics with their contribution in total number of tweets\n",
    "import plotly.graph_objs as go\n",
    "from palettable.colorbrewer.diverging import *\n",
    "\n",
    "colors = Spectral_8.hex_colors\n",
    "\n",
    "topics_pie = go.Pie(labels=ceo_topics.index, values=ceo_topics[0], marker=dict(colors=colors\n",
    "                                                            , line=dict(color='#FFF', width=2)),\n",
    "                                                            domain={'x': [0.0, .4], 'y': [0.0, 1]}\n",
    "                                                            , showlegend=False, textinfo='label+percent')\n",
    "\n",
    "layout = go.Layout(height = 600,\n",
    "                   width = 1000,\n",
    "                   autosize = False,\n",
    "                   title = 'Topic Distribution for Tim Cook')\n",
    "fig = go.Figure(data = topics_pie, layout = layout)\n",
    "\n",
    "py.iplot(fig, filename='basic_pie_chart')"
   ]
  },
  {
   "cell_type": "code",
   "execution_count": 45,
   "metadata": {},
   "outputs": [],
   "source": [
    "hashtags = df_tim_cook['tags'].apply(pd.Series).stack()\n",
    "\n",
    "hashtags_df= pd.DataFrame(hashtags)\n",
    "hashtags_df.columns=['hashtags']"
   ]
  },
  {
   "cell_type": "code",
   "execution_count": 46,
   "metadata": {},
   "outputs": [],
   "source": [
    "hashtags_df = pd.DataFrame(hashtags_df['hashtags'].value_counts()).reset_index()"
   ]
  },
  {
   "cell_type": "code",
   "execution_count": 47,
   "metadata": {},
   "outputs": [],
   "source": [
    "hashtags_df['index'] = hashtags_df['index'].apply(lambda x:\"Holiday Celebration\" if any(y in x.lower() for y in [\"easter\",\"day\",\"diwali\",\"july\",\"month\",\"year\",\"thanksgiving\",\"week\"]) else x)\n",
    "hashtags_df['index'] = hashtags_df['index'].apply(lambda x:\"Apple\" if any(y in x.lower() for y in [\"apple\",\"airpod\",\"iphone\",\"ipad\",\"potrait\"]) else x)"
   ]
  },
  {
   "cell_type": "code",
   "execution_count": 48,
   "metadata": {},
   "outputs": [],
   "source": [
    "hashtag_df = pd.DataFrame(hashtags_df[\"index\"].value_counts()).reset_index()\n",
    "hashtag_df.columns= [\"hashtags\",\"count\"]"
   ]
  },
  {
   "cell_type": "code",
   "execution_count": 49,
   "metadata": {},
   "outputs": [
    {
     "name": "stdout",
     "output_type": "stream",
     "text": [
      "38.613861386138616 % of Tim Cook's hashtags are about general wishes on holidays\n"
     ]
    }
   ],
   "source": [
    "print(((hashtag_df[hashtag_df[\"hashtags\"] == 'Holiday Celebration'][\"count\"]/hashtag_df[\"count\"].sum())*100).values[0],\"% of Tim Cook's hashtags are about general wishes on holidays\")"
   ]
  },
  {
   "cell_type": "code",
   "execution_count": 50,
   "metadata": {},
   "outputs": [
    {
     "name": "stdout",
     "output_type": "stream",
     "text": [
      "11.881188118811881 % of Tim Cook's hashtags are about apple products\n"
     ]
    }
   ],
   "source": [
    "print(((hashtag_df[hashtag_df[\"hashtags\"] == 'Apple'][\"count\"]/hashtag_df[\"count\"].sum())*100).values[0],\"% of Tim Cook's hashtags are about apple products\")"
   ]
  },
  {
   "cell_type": "markdown",
   "metadata": {},
   "source": [
    "## Similar analysis was done for all other CEOs to understand what kind of topics they talk aboout"
   ]
  }
 ],
 "metadata": {
  "kernelspec": {
   "display_name": "Python 3",
   "language": "python",
   "name": "python3"
  },
  "language_info": {
   "codemirror_mode": {
    "name": "ipython",
    "version": 3
   },
   "file_extension": ".py",
   "mimetype": "text/x-python",
   "name": "python",
   "nbconvert_exporter": "python",
   "pygments_lexer": "ipython3",
   "version": "3.7.3"
  }
 },
 "nbformat": 4,
 "nbformat_minor": 2
}
